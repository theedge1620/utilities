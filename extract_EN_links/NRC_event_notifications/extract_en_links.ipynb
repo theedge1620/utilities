{
 "cells": [
  {
   "cell_type": "code",
   "execution_count": 8,
   "metadata": {},
   "outputs": [
    {
     "name": "stdout",
     "output_type": "stream",
     "text": [
      "2011\n",
      "2012\n",
      "2013\n",
      "2014\n",
      "2015\n",
      "2016\n",
      "2017\n",
      "2018\n",
      "2019\n",
      "2020\n",
      "2021\n"
     ]
    }
   ],
   "source": [
    "import requests\n",
    "\n",
    "from bs4 import BeautifulSoup\n",
    "\n",
    "def extract_all_links(site):\n",
    "    html = requests.get(site).text\n",
    "    soup = BeautifulSoup(html, 'html.parser').find_all('a')\n",
    "    links = [link.get('href') for link in soup]\n",
    "    return links\n",
    "\n",
    "all_en_list = []\n",
    "\n",
    "for year in range(2011,2022):\n",
    "    print(year)\n",
    "    site_link = 'https://www.nrc.gov/reading-rm/doc-collections/event-status/event/'+str(year)+'/index.html'\n",
    "    all_links = extract_all_links(site_link)\n",
    "    clean_links = []\n",
    "    for val in all_links:\n",
    "        if val != None :\n",
    "            clean_links.append(val)\n",
    "\n",
    "\n",
    "\n",
    "    list1 = ['en.html']\n",
    "    filter_data = [x for x in clean_links if\n",
    "                  all(y in x for y in list1)]\n",
    "    list2 = str(year)\n",
    "    filter_data2 = [x for x in filter_data if\n",
    "                  all(y in x for y in list2)]\n",
    "\n",
    "    full_list_year = [] \n",
    "    for ii in range(len(filter_data2)):\n",
    "        site_link = 'https://www.nrc.gov/reading-rm/doc-collections/event-status/event/'+str(year)+'/'+ filter_data2[ii]\n",
    "        \n",
    "        all_links = extract_all_links(site_link)\n",
    "        clean_links = []\n",
    "        for val in all_links:\n",
    "            if val != None :\n",
    "                if '#en' in val:\n",
    "                    clean_links.append(site_link+val)\n",
    "\n",
    "        if clean_links:\n",
    "            full_list_year.extend(clean_links) \n",
    "    \n",
    "    if full_list_year:\n",
    "        all_en_list.extend(full_list_year)\n",
    "            "
   ]
  },
  {
   "cell_type": "code",
   "execution_count": 14,
   "metadata": {},
   "outputs": [],
   "source": [
    "EN_list =[]\n",
    "for jj in range(0,len(all_en_list)):\n",
    "    EN_list.append(all_en_list[jj][-5:])"
   ]
  },
  {
   "cell_type": "code",
   "execution_count": 11,
   "metadata": {},
   "outputs": [],
   "source": [
    "import pandas as pd"
   ]
  },
  {
   "cell_type": "code",
   "execution_count": 27,
   "metadata": {},
   "outputs": [],
   "source": [
    "# dictionary of lists  \n",
    "dict = {'Event Notification': EN_list, 'link': all_en_list}  \n",
    "       \n",
    "df = pd.DataFrame(dict) \n",
    "df.drop_duplicates(subset=['Event Notification'], keep='first')\n",
    "df.to_excel('EN_links.xlsx', index=False)"
   ]
  },
  {
   "cell_type": "code",
   "execution_count": 30,
   "metadata": {},
   "outputs": [],
   "source": [
    "en_data = pd.read_excel('scram_event_notifications_NRC.xlsx',sheet='Public Site Data')"
   ]
  },
  {
   "cell_type": "code",
   "execution_count": 45,
   "metadata": {},
   "outputs": [],
   "source": [
    "matched_links=[]\n",
    "en_matched = []\n",
    "\n",
    "for kk in range(0,len(en_data)):\n",
    "    # Searching in whole column\n",
    "    found_link = []\n",
    "    found_en = []\n",
    "    for i in range(len(df['Event Notification'])):\n",
    "        if df['Event Notification'][i] == str(en_data.Event_Notification_Number[kk]):\n",
    "\n",
    "            found_link = df['link'][i]\n",
    "            found_en = df['Event Notification'][i]\n",
    "    \n",
    "    print kk\n",
    "    if found_link:\n",
    "        matched_links.append(found_link)\n",
    "        en_matched.append(found_en)\n",
    "        print('Found')"
   ]
  },
  {
   "cell_type": "code",
   "execution_count": 41,
   "metadata": {},
   "outputs": [],
   "source": [
    "for ll in range(0,len(df['Event Notification'])):\n",
    "        if df['Event Notification'][ll] == str(en_data.Event_Notification_Number[0]):\n",
    "\n",
    "            matched_links.append(df['link'][ll])\n",
    "            en_matched.append(df['Event Notification'][ll])"
   ]
  },
  {
   "cell_type": "code",
   "execution_count": 47,
   "metadata": {},
   "outputs": [
    {
     "data": {
      "text/plain": [
       "574"
      ]
     },
     "execution_count": 47,
     "metadata": {},
     "output_type": "execute_result"
    }
   ],
   "source": [
    "len(matched_links)"
   ]
  },
  {
   "cell_type": "code",
   "execution_count": 48,
   "metadata": {},
   "outputs": [
    {
     "data": {
      "text/plain": [
       "574"
      ]
     },
     "execution_count": 48,
     "metadata": {},
     "output_type": "execute_result"
    }
   ],
   "source": [
    "len(en_data)"
   ]
  },
  {
   "cell_type": "code",
   "execution_count": 50,
   "metadata": {},
   "outputs": [],
   "source": [
    "en_data['Link']=matched_links\n"
   ]
  },
  {
   "cell_type": "code",
   "execution_count": 51,
   "metadata": {},
   "outputs": [
    {
     "data": {
      "text/html": [
       "<div>\n",
       "<style scoped>\n",
       "    .dataframe tbody tr th:only-of-type {\n",
       "        vertical-align: middle;\n",
       "    }\n",
       "\n",
       "    .dataframe tbody tr th {\n",
       "        vertical-align: top;\n",
       "    }\n",
       "\n",
       "    .dataframe thead th {\n",
       "        text-align: right;\n",
       "    }\n",
       "</style>\n",
       "<table border=\"1\" class=\"dataframe\">\n",
       "  <thead>\n",
       "    <tr style=\"text-align: right;\">\n",
       "      <th></th>\n",
       "      <th>Year</th>\n",
       "      <th>Scram #</th>\n",
       "      <th>Plant Name</th>\n",
       "      <th>Docket</th>\n",
       "      <th>Site</th>\n",
       "      <th>PWR/BWR</th>\n",
       "      <th>Auto/Manual</th>\n",
       "      <th>Date</th>\n",
       "      <th>Event_Notification_Number</th>\n",
       "      <th>NRC_retract_flag</th>\n",
       "      <th>Link</th>\n",
       "    </tr>\n",
       "  </thead>\n",
       "  <tbody>\n",
       "    <tr>\n",
       "      <th>0</th>\n",
       "      <td>2011</td>\n",
       "      <td>1</td>\n",
       "      <td>Palo Verde Nuclear Generating Station, Unit 3</td>\n",
       "      <td>5000530</td>\n",
       "      <td>Palo Verde Nuclear Generating Station</td>\n",
       "      <td>P</td>\n",
       "      <td>A</td>\n",
       "      <td>2011-01-19</td>\n",
       "      <td>46556</td>\n",
       "      <td>0</td>\n",
       "      <td>https://www.nrc.gov/reading-rm/doc-collections...</td>\n",
       "    </tr>\n",
       "    <tr>\n",
       "      <th>1</th>\n",
       "      <td>2011</td>\n",
       "      <td>2</td>\n",
       "      <td>McGuire Nuclear Station, Unit 1</td>\n",
       "      <td>5000369</td>\n",
       "      <td>McGuire Nuclear Station</td>\n",
       "      <td>P</td>\n",
       "      <td>M</td>\n",
       "      <td>2011-01-20</td>\n",
       "      <td>46559</td>\n",
       "      <td>0</td>\n",
       "      <td>https://www.nrc.gov/reading-rm/doc-collections...</td>\n",
       "    </tr>\n",
       "    <tr>\n",
       "      <th>2</th>\n",
       "      <td>2011</td>\n",
       "      <td>3</td>\n",
       "      <td>Palisades Nuclear Plant</td>\n",
       "      <td>5000255</td>\n",
       "      <td>Palisades Nuclear Plant</td>\n",
       "      <td>P</td>\n",
       "      <td>A</td>\n",
       "      <td>2011-01-22</td>\n",
       "      <td>46564</td>\n",
       "      <td>0</td>\n",
       "      <td>https://www.nrc.gov/reading-rm/doc-collections...</td>\n",
       "    </tr>\n",
       "    <tr>\n",
       "      <th>3</th>\n",
       "      <td>2011</td>\n",
       "      <td>4</td>\n",
       "      <td>Susquehanna Steam Electric Station, Unit 1</td>\n",
       "      <td>5000387</td>\n",
       "      <td>Susquehanna Steam Electric Station</td>\n",
       "      <td>B</td>\n",
       "      <td>M</td>\n",
       "      <td>2011-01-25</td>\n",
       "      <td>46569</td>\n",
       "      <td>0</td>\n",
       "      <td>https://www.nrc.gov/reading-rm/doc-collections...</td>\n",
       "    </tr>\n",
       "    <tr>\n",
       "      <th>4</th>\n",
       "      <td>2011</td>\n",
       "      <td>5</td>\n",
       "      <td>LaSalle County Station, Unit  1</td>\n",
       "      <td>5000373</td>\n",
       "      <td>LaSalle County Station</td>\n",
       "      <td>B</td>\n",
       "      <td>A</td>\n",
       "      <td>2011-02-01</td>\n",
       "      <td>46582</td>\n",
       "      <td>0</td>\n",
       "      <td>https://www.nrc.gov/reading-rm/doc-collections...</td>\n",
       "    </tr>\n",
       "  </tbody>\n",
       "</table>\n",
       "</div>"
      ],
      "text/plain": [
       "   Year   Scram #                                     Plant Name   Docket  \\\n",
       "0   2011        1  Palo Verde Nuclear Generating Station, Unit 3  5000530   \n",
       "1   2011        2                McGuire Nuclear Station, Unit 1  5000369   \n",
       "2   2011        3                        Palisades Nuclear Plant  5000255   \n",
       "3   2011        4     Susquehanna Steam Electric Station, Unit 1  5000387   \n",
       "4   2011        5                LaSalle County Station, Unit  1  5000373   \n",
       "\n",
       "                                    Site PWR/BWR Auto/Manual       Date  \\\n",
       "0  Palo Verde Nuclear Generating Station       P           A 2011-01-19   \n",
       "1                McGuire Nuclear Station       P           M 2011-01-20   \n",
       "2                Palisades Nuclear Plant       P           A 2011-01-22   \n",
       "3     Susquehanna Steam Electric Station       B           M 2011-01-25   \n",
       "4                 LaSalle County Station       B           A 2011-02-01   \n",
       "\n",
       "   Event_Notification_Number  NRC_retract_flag  \\\n",
       "0                      46556                 0   \n",
       "1                      46559                 0   \n",
       "2                      46564                 0   \n",
       "3                      46569                 0   \n",
       "4                      46582                 0   \n",
       "\n",
       "                                                Link  \n",
       "0  https://www.nrc.gov/reading-rm/doc-collections...  \n",
       "1  https://www.nrc.gov/reading-rm/doc-collections...  \n",
       "2  https://www.nrc.gov/reading-rm/doc-collections...  \n",
       "3  https://www.nrc.gov/reading-rm/doc-collections...  \n",
       "4  https://www.nrc.gov/reading-rm/doc-collections...  "
      ]
     },
     "execution_count": 51,
     "metadata": {},
     "output_type": "execute_result"
    }
   ],
   "source": [
    "en_data.head()"
   ]
  },
  {
   "cell_type": "code",
   "execution_count": 53,
   "metadata": {},
   "outputs": [],
   "source": [
    "en_data.to_excel('ens_with_links.xlsx',index=False)"
   ]
  },
  {
   "cell_type": "code",
   "execution_count": null,
   "metadata": {},
   "outputs": [],
   "source": []
  }
 ],
 "metadata": {
  "kernelspec": {
   "display_name": "Python 3",
   "language": "python",
   "name": "python3"
  },
  "language_info": {
   "codemirror_mode": {
    "name": "ipython",
    "version": 3
   },
   "file_extension": ".py",
   "mimetype": "text/x-python",
   "name": "python",
   "nbconvert_exporter": "python",
   "pygments_lexer": "ipython3",
   "version": "3.6.5"
  }
 },
 "nbformat": 4,
 "nbformat_minor": 2
}
